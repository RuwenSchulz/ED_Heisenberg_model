{
  "nbformat": 4,
  "nbformat_minor": 0,
  "metadata": {
    "kernelspec": {
      "display_name": "Python 3",
      "language": "python",
      "name": "python3"
    },
    "language_info": {
      "codemirror_mode": {
        "name": "ipython",
        "version": 3
      },
      "file_extension": ".py",
      "mimetype": "text/x-python",
      "name": "python",
      "nbconvert_exporter": "python",
      "pygments_lexer": "ipython3",
      "version": "3.8.5"
    },
    "colab": {
      "name": "Tutorial.ipynb",
      "provenance": [],
      "toc_visible": true,
      "include_colab_link": true
    }
  },
  "cells": [
    {
      "cell_type": "markdown",
      "metadata": {
        "id": "view-in-github",
        "colab_type": "text"
      },
      "source": [
        "<a href=\"https://colab.research.google.com/github/RuwenSchulz/Test/blob/main/ed_1D_spinchain/Tutorial.ipynb\" target=\"_parent\"><img src=\"https://colab.research.google.com/assets/colab-badge.svg\" alt=\"Open In Colab\"/></a>"
      ]
    },
    {
      "cell_type": "code",
      "metadata": {
        "id": "XoEsQOyKpgH9",
        "cellView": "form"
      },
      "source": [
        "#@title First load and import packages!\n",
        "\n",
        "%%capture\n",
        "!git clone https://github.com/RuwenSchulz/Test.git\n",
        "\n",
        "%cd Test\n",
        "\n",
        "import ed_1D_spinchain.variables as variables\n",
        "variables.init()\n",
        "\n",
        "from ed_1D_spinchain.basis import *\n",
        "from ed_1D_spinchain.hamiltonian import *\n",
        "from ed_1D_spinchain.operators import *\n",
        "from ed_1D_spinchain.entanglementspectrum import *"
      ],
      "execution_count": 1,
      "outputs": []
    },
    {
      "cell_type": "markdown",
      "metadata": {
        "id": "Y41wQHLDi3l0"
      },
      "source": [
        "\n",
        "###    5.3.4: *U(1)*"
      ]
    },
    {
      "cell_type": "code",
      "metadata": {
        "id": "Wv-S2hk-j1cb",
        "colab": {
          "base_uri": "https://localhost:8080/",
          "height": 331
        },
        "cellView": "form",
        "outputId": "0292d874-2f1b-400a-9b5d-b53b6d94ce04"
      },
      "source": [
        "#@title A graphical motivation for the commutation relations of U(1)\n",
        "import numpy as np\n",
        "from matplotlib.colors import Normalize\n",
        "import matplotlib.pyplot as plt\n",
        "import matplotlib\n",
        "import matplotlib.cm as cm\n",
        "vmin = -1 \n",
        "vmax = 1\n",
        "\n",
        "norm= matplotlib.colors.TwoSlopeNorm(vmin=vmin, vcenter=0, vmax=vmax)\n",
        "fig, axes = plt.subplots(nrows=1, ncols=3,figsize=(15,5))\n",
        "cmap=cm.get_cmap('seismic')\n",
        "\n",
        "plt.setp(axes,xticks=np.arange(9),yticks=np.arange(9),xticklabels=[r'$\\left| 00\\right\\rangle$',\n",
        "                                                                   r'$\\left| 01\\right\\rangle$',\n",
        "                                                                   r'$\\left| 10\\right\\rangle$',\n",
        "                                                                   r'$\\left| 02\\right\\rangle$',\n",
        "                                                                   r'$\\left| 11 \\right\\rangle$',\n",
        "                                                                   r'$\\left| 20\\right\\rangle$',\n",
        "                                                                   r'$\\left| 12\\right\\rangle$',\n",
        "                                                                   r'$\\left| 21\\right\\rangle$',\n",
        "                                                                   r'$\\left| 22\\right\\rangle$'],\n",
        "                                                       yticklabels=[r'$\\left| 00\\right\\rangle$',\n",
        "                                                                    r'$\\left| 01\\right\\rangle$',\n",
        "                                                                    r'$\\left| 10\\right\\rangle$',\n",
        "                                                                    r'$\\left| 02\\right\\rangle$',\n",
        "                                                                    r'$\\left| 11 \\right\\rangle$',\n",
        "                                                                    r'$\\left| 20\\right\\rangle$',\n",
        "                                                                    r'$\\left| 12\\right\\rangle$',\n",
        "                                                                    r'$\\left| 21\\right\\rangle$',\n",
        "                                                                    r'$\\left| 22\\right\\rangle$'])\n",
        "\n",
        "createbasis(2*[1])\n",
        "sort_basis_s_z()\n",
        "\n",
        "H=Hamiltonian(bc=0,J_z=1,J_xy=0,D=0,h=0,k=2,block=False)\n",
        "\n",
        "axes[0].imshow(H.toarray(),cmap=cmap,norm=norm)\n",
        "axes[0].tick_params(axis='both', which='major', labelsize=10)\n",
        "\n",
        "H=Hamiltonian(bc=0,J_z=0,J_xy=1,D=0,h=0,k=2,block=False)\n",
        "\n",
        "axes[1].tick_params(axis='both', which='major', labelsize=10)\n",
        "c=axes[1].imshow(H.toarray(),cmap=cmap,norm=norm)\n",
        "\n",
        "Sss=S_z_tot()\n",
        "\n",
        "axes[2].tick_params(axis='both', which='major', labelsize=10)\n",
        "c=axes[2].imshow(Sss.toarray(),cmap=cmap,norm=norm)\n",
        "\n",
        "axes[0].xaxis.tick_top()\n",
        "axes[1].xaxis.tick_top()\n",
        "axes[2].xaxis.tick_top()\n",
        "\n",
        "axes[0].xaxis.set_ticks_position('none') \n",
        "axes[0].yaxis.set_ticks_position('none') \n",
        "\n",
        "axes[1].xaxis.set_ticks_position('none') \n",
        "axes[1].yaxis.set_ticks_position('none') \n",
        "\n",
        "axes[2].axhline(0.48, linestyle='-', color='k', linewidth=1)\n",
        "axes[2].axvline(0.5, linestyle='-', color='k', linewidth=1)\n",
        "\n",
        "axes[2].axhline(2.5, linestyle='-', color='k', linewidth=1)\n",
        "axes[2].axvline(2.5, linestyle='-', color='k', linewidth=1)\n",
        "\n",
        "axes[2].axhline(5.48, linestyle='-', color='k', linewidth=1)\n",
        "axes[2].axvline(5.5, linestyle='-', color='k', linewidth=1)\n",
        "\n",
        "axes[2].axhline(7.45, linestyle='-', color='k', linewidth=1)\n",
        "axes[2].axvline(7.5, linestyle='-', color='k', linewidth=1)\n",
        "\n",
        "axes[1].axhline(0.48, linestyle='-', color='k', linewidth=1)\n",
        "axes[1].axvline(0.5, linestyle='-', color='k', linewidth=1)\n",
        "\n",
        "axes[1].axhline(2.5, linestyle='-', color='k', linewidth=1)\n",
        "axes[1].axvline(2.5, linestyle='-', color='k', linewidth=1)\n",
        "\n",
        "axes[1].axhline(5.48, linestyle='-', color='k', linewidth=1)\n",
        "axes[1].axvline(5.5, linestyle='-', color='k', linewidth=1)\n",
        "\n",
        "axes[1].axhline(7.45, linestyle='-', color='k', linewidth=1)\n",
        "axes[1].axvline(7.5, linestyle='-', color='k', linewidth=1)\n",
        "\n",
        "axes[0].axhline(0.48, linestyle='-', color='k', linewidth=1)\n",
        "axes[0].axvline(0.5, linestyle='-', color='k', linewidth=1)\n",
        "\n",
        "axes[0].axhline(2.5, linestyle='-', color='k', linewidth=1)\n",
        "axes[0].axvline(2.5, linestyle='-', color='k', linewidth=1)\n",
        "\n",
        "axes[0].axhline(5.48, linestyle='-', color='k', linewidth=1)\n",
        "axes[0].axvline(5.5, linestyle='-', color='k', linewidth=1)\n",
        "\n",
        "axes[0].axhline(7.47, linestyle='-', color='k', linewidth=1)\n",
        "axes[0].axvline(7.5, linestyle='-', color='k', linewidth=1)\n",
        "\n",
        "cbar=fig.colorbar(c,ax=axes,fraction=0.02, pad=0.04)\n",
        "cbar.ax.tick_params(labelsize=10)\n",
        "plt.show()"
      ],
      "execution_count": 5,
      "outputs": [
        {
          "output_type": "stream",
          "text": [
            "created basis!\n"
          ],
          "name": "stdout"
        },
        {
          "output_type": "display_data",
          "data": {
            "image/png": "[encoded data removed]",
            "text/plain": [
              "<Figure size 1080x360 with 4 Axes>"
            ]
          },
          "metadata": {
            "tags": [],
            "needs_background": "light"
          }
        }
      ]
    },
    {
      "cell_type": "markdown",
      "metadata": {
        "id": "QM2JHRcLm_tY"
      },
      "source": [
        "#5.5.1: Block diagonalization"
      ]
    },
    {
      "cell_type": "code",
      "metadata": {
        "id": "PiRrrIPPmSao",
        "colab": {
          "base_uri": "https://localhost:8080/",
          "height": 302
        },
        "cellView": "form",
        "outputId": "a852c784-11c4-4378-9c8f-85209f3784c3"
      },
      "source": [
        "#@title Block diagonal Hamiltonian with respect to Sz\n",
        "createbasis(3*[1])\n",
        "\n",
        "hamiltonian1=Hamiltonian(bc=0,D=0,J_z=1,J_xy=1,h=0,g=0,k=2,state=0,block=False)\n",
        "\n",
        "sort_basis_s_z()\n",
        "hamiltonian2=Hamiltonian(bc=0,D=0,J_z=1,J_xy=1,h=0,g=0,k=1,state=0,block=False)\n",
        "\n",
        "fig, ax1 = plt.subplots(1,2,figsize=(10,5))\n",
        "\n",
        "c=ax1[0].matshow(hamiltonian1.toarray(), cmap=\"seismic\")\n",
        "ax1[0].set_xticks([])\n",
        "ax1[0].set_yticks([])\n",
        "\n",
        "c=ax1[1].matshow(hamiltonian2.toarray(), cmap=\"seismic\")\n",
        "ax1[1].set_xticks([])\n",
        "ax1[1].set_yticks([])\n",
        "fig.colorbar(c,ax=ax1,fraction=0.02, pad=0.08)\n",
        "ax1[1].axhline(0.3, linestyle='-', color='k', linewidth=1)\n",
        "ax1[1].axvline(0.4, linestyle='-', color='k', linewidth=1)\n",
        "\n",
        "ax1[1].axhline(3.4, linestyle='-', color='k', linewidth=1)\n",
        "ax1[1].axvline(3.4, linestyle='-', color='k', linewidth=1)\n",
        "\n",
        "ax1[1].axhline(9.3, linestyle='-', color='k', linewidth=1)\n",
        "ax1[1].axvline(9.5, linestyle='-', color='k', linewidth=1)\n",
        "ax1[1].axhline(16.3, linestyle='-', color='k', linewidth=1)\n",
        "ax1[1].axvline(16.5, linestyle='-', color='k', linewidth=1)\n",
        "ax1[1].axhline(22.5, linestyle='-', color='k', linewidth=1)\n",
        "ax1[1].axvline(22.5, linestyle='-', color='k', linewidth=1)\n",
        "ax1[1].axhline(25.5, linestyle='-', color='k', linewidth=1)\n",
        "ax1[1].axvline(25.5, linestyle='-', color='k', linewidth=1)"
      ],
      "execution_count": null,
      "outputs": [
        {
          "output_type": "stream",
          "text": [
            "created basis!\n"
          ],
          "name": "stdout"
        },
        {
          "output_type": "execute_result",
          "data": {
            "text/plain": [
              "<matplotlib.lines.Line2D at 0x7f16fc63f750>"
            ]
          },
          "metadata": {
            "tags": []
          },
          "execution_count": 29
        },
        {
          "output_type": "display_data",
          "data": {
            "image/png": "[encoded data removed]",
            "text/plain": [
              "<Figure size 720x360 with 3 Axes>"
            ]
          },
          "metadata": {
            "tags": [],
            "needs_background": "light"
          }
        }
      ]
    },
    {
      "cell_type": "code",
      "metadata": {
        "id": "BuJYXI1Fnxv9",
        "colab": {
          "base_uri": "https://localhost:8080/"
        },
        "cellView": "form",
        "outputId": "4225ebb2-b41d-4a0b-c843-966328f14540"
      },
      "source": [
        "#@title Reduce H by exploiting U(1)- and parity-symmetry\n",
        "\n",
        "\n",
        "createbasis(6*[1])\n",
        "\n",
        "H=Hamiltonian(block=False)\n",
        "print(\"No symmetry:\",\"\\n Dimension H withouth symmetry:\",H.shape,\"\\n E_0=\", variables.spectrum[0])\n",
        "print()\n",
        "\n",
        "\n",
        "\n",
        "H=Hamiltonian(block=0)\n",
        "print(\"S_tot=0:\",\"\\n Dimension H withouth symmetry:\",H.shape,\"\\n E_0=\", variables.spectrum[0])\n",
        "print()\n",
        "\n",
        "def bond_centered_inversion(cutbond):\n",
        "    mapping_map={}\n",
        "    for u in range(len(variables.basis_index_element_map)):\n",
        "        left=variables.basis_index_element_map[u][:cutbond]\n",
        "        right=variables.basis_index_element_map[u][cutbond:]\n",
        "        left.reverse()\n",
        "        right.reverse()\n",
        "        inversion=(right+left)\n",
        "        mapping_map[u]=variables.basis_element_index_map[str(inversion)]\n",
        "    return mapping_map\n",
        "\n",
        "inversion_map=bond_centered_inversion(1)\n",
        "L=len(variables.basis_index_element_map)\n",
        "U_parity=scipy.sparse.lil_matrix((L,L), dtype=int)\n",
        "U_parity=U_parity.asfptype()\n",
        "for i in range(0,len(inversion_map)):\n",
        "    U_parity[inversion_map[i],i]=1\n",
        "\n",
        "parity_eigenvalues=eigsh(U_parity,k=0.6*L,which='LA')\n",
        "aa=parity_eigenvalues[0].copy()\n",
        "aa.sort()\n",
        "pairs=[[parity_eigenvalues[0][i],parity_eigenvalues[1][:,i]] \n",
        "       for i in range(len(parity_eigenvalues[0]))]\n",
        "positive_values = len(list(filter(lambda x: (x > 0), aa)))\n",
        "pairs2=sorted(pairs, key=lambda x:x[0],reverse=True)\n",
        "x = [y[1] for y in pairs2[:positive_values]]\n",
        "U3=np.vstack(x)\n",
        "U3=scipy.sparse.csc_matrix(U3)\n",
        "\n",
        "tmp=scipy.sparse.csc_matrix.dot(H,U3.transpose())\n",
        "H_tilde=scipy.sparse.csc_matrix.dot(U3,tmp)\n",
        "eigs=eigsh(H_tilde,k=2)\n",
        "\n",
        "print(\"S_tot=0 + even parity:\",\"\\n Dimension H withouth symmetry:\",H_tilde.shape,\"\\n E_0=\", eigs[0][0])\n"
      ],
      "execution_count": 22,
      "outputs": [
        {
          "output_type": "stream",
          "text": [
            "created basis!\n",
            "No symmetry: \n",
            " Dimension H withouth symmetry: (729, 729) \n",
            " E_0= -7.370274969424623\n",
            "\n",
            "S_tot=0: \n",
            " Dimension H withouth symmetry: (141, 141) \n",
            " E_0= -7.370274969424609\n",
            "\n",
            "S_tot=0 + even parity: \n",
            " Dimension H withouth symmetry: (74, 74) \n",
            " E_0= -7.370274969424615\n"
          ],
          "name": "stdout"
        }
      ]
    },
    {
      "cell_type": "markdown",
      "metadata": {
        "id": "4S1qG8efng0p"
      },
      "source": [
        "#6.1  Haldane-, Surface-gap"
      ]
    },
    {
      "cell_type": "code",
      "metadata": {
        "cellView": "form",
        "id": "JWBNUWkR-kVA",
        "outputId": "5ad85bdc-82ea-4829-b346-60185c3a3c39",
        "colab": {
          "base_uri": "https://localhost:8080/",
          "height": 359
        }
      },
      "source": [
        "#@title The gaps with fits\n",
        "gap1even=[]\n",
        "gap2even=[]\n",
        "gap1odd=[]\n",
        "gap2odd=[]\n",
        "\n",
        "xvalueseven=[]\n",
        "xvaluesodd=[]\n",
        "\n",
        "\n",
        "\n",
        "def gaps_for_even_odd_l():\n",
        "    for factor in range(2,8):\n",
        "        createbasis_fast((2*factor)*[1])\n",
        "        Hamiltonian(bc=0,D=0,J_z=1,J_xy=1,h=0,g=0,k=3,state=0,block=0)\n",
        "        a=variables.spectrum[0]\n",
        "        b=variables.spectrum[1]\n",
        "        c=variables.spectrum[2]\n",
        "        gap1even.append(b-a)\n",
        "        gap2even.append(c-a)\n",
        "        xvalueseven.append(2*factor)\n",
        "\n",
        "    for factor in range(1,7):\n",
        "        createbasis_fast((2*factor+1)*[1])\n",
        "        Hamiltonian(bc=0,D=0,J_z=1,J_xy=1,h=0,g=0,k=3,state=0,block=0)\n",
        "        a=variables.spectrum[0]\n",
        "        b=variables.spectrum[1]\n",
        "        c=variables.spectrum[2]\n",
        "        gap1odd.append(b-a)\n",
        "        gap2odd.append(c-a)\n",
        "        xvaluesodd.append(2*factor+1)\n",
        "        \n",
        "gaps_for_even_odd_l()\n",
        "\n",
        "\n",
        "from matplotlib.pyplot import figure\n",
        "gap2plt,=plt.plot(xvalueseven,gap2even,'r^',label=r\"$|E_4-E_0| $\")\n",
        "gap2plt1,=plt.plot(xvaluesodd,gap2odd,'ro',label=r\"$|E_4-E_0|$\")\n",
        "gap1plt=plt.plot(xvalueseven,gap1even,'b^',label=r\"$|E_1-E_0| $\")\n",
        "gap1plt=plt.plot(xvaluesodd,gap1odd,'bo',label=r\"$|E_1-E_0|$\")\n",
        "\n",
        "fit_haldane_even=[]\n",
        "fit_haldane_odd=[]\n",
        "fit_surface_even=[]\n",
        "fit_surface_odd=[]\n",
        "\n",
        "xvalues=[]\n",
        "fit_params_surface_even=scipy.optimize.curve_fit(lambda t,a,b: a*np.exp(b*t),xvalueseven[3:len(xvalueseven)],gap1even[3:len(gap1even)])\n",
        "fit_params_surface_odd=scipy.optimize.curve_fit(lambda t,a,b: a*np.exp(b*t),xvaluesodd[3:len(xvaluesodd)],gap1odd[3:len(xvaluesodd)])\n",
        "fit_params_haldane_even=scipy.optimize.curve_fit(lambda t,a,b,c: a*np.exp(-t/b)+c,xvalueseven[3:],gap2even[3:])\n",
        "fit_params_haldane_odd=scipy.optimize.curve_fit(lambda t,a,b,c: a*np.exp(-t/b)+c,xvaluesodd[3:len(xvaluesodd)],gap2odd[3:len(xvaluesodd)])\n",
        "\n",
        "for i in range(5,50):\n",
        "    xvalues.append(i)\n",
        "    fit_surface_even.append(fit_params_surface_even[0][0]*(np.exp(fit_params_surface_even[0][1]*i)))\n",
        "    fit_surface_odd.append(fit_params_surface_odd[0][0]*(np.exp(fit_params_surface_odd[0][1]*i)))\n",
        "    fit_haldane_even.append(fit_params_haldane_even[0][0]*np.exp(-i/fit_params_haldane_even[0][1])+fit_params_haldane_even[0][2])\n",
        "    fit_haldane_odd.append(fit_params_haldane_odd[0][0]*np.exp(-i/fit_params_haldane_odd[0][1])+fit_params_haldane_odd[0][2])\n",
        "    \n",
        "  \n",
        "plt.plot(xvalues,fit_haldane_even,'r--',label=r'Fit : $|E_4-E_0|$, even L')\n",
        "plt.plot(xvalues,fit_surface_even,'b--',label=r'Fit : $|E_1-E_0|$, even L')\n",
        "\n",
        "legend1 = plt.legend([gap2plt, gap2plt1], [\"even L\", \"odd L\"],fontsize=14,loc=1)\n",
        "plt.gca().add_artist(legend1)\n",
        "\n",
        "plt.grid()\n",
        "plt.yscale('log')\n",
        "plt.ylabel(\"Energy gap\",fontsize=14)\n",
        "plt.xlabel(\"Length of the chain\",fontsize=14)\n",
        "plt.yticks(fontsize=14)\n",
        "plt.xticks(fontsize=14)\n",
        "plt.legend(fontsize=14)\n",
        "\n",
        "\n"
      ],
      "execution_count": 25,
      "outputs": [
        {
          "output_type": "stream",
          "text": [
            "/usr/local/lib/python3.7/dist-packages/scipy/optimize/minpack.py:808: OptimizeWarning: Covariance of the parameters could not be estimated\n",
            "  category=OptimizeWarning)\n",
            "/usr/local/lib/python3.7/dist-packages/ipykernel_launcher.py:50: RuntimeWarning: overflow encountered in exp\n"
          ],
          "name": "stderr"
        },
        {
          "output_type": "execute_result",
          "data": {
            "text/plain": [
              "<matplotlib.legend.Legend at 0x7fe9d564cc90>"
            ]
          },
          "metadata": {
            "tags": []
          },
          "execution_count": 25
        },
        {
          "output_type": "display_data",
          "data": {
            "image/png": "[encoded data removed]",
            "text/plain": [
              "<Figure size 432x288 with 1 Axes>"
            ]
          },
          "metadata": {
            "tags": [],
            "needs_background": "light"
          }
        }
      ]
    },
    {
      "cell_type": "markdown",
      "metadata": {
        "id": "GNGuP9HZEVGK"
      },
      "source": [
        "#6.3  Area-law"
      ]
    },
    {
      "cell_type": "code",
      "metadata": {
        "id": "-TcVWwSXEW4u"
      },
      "source": [
        ""
      ],
      "execution_count": null,
      "outputs": []
    }
  ]
}