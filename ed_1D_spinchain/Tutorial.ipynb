{
  "nbformat": 4,
  "nbformat_minor": 0,
  "metadata": {
    "kernelspec": {
      "display_name": "Python 3",
      "language": "python",
      "name": "python3"
    },
    "language_info": {
      "codemirror_mode": {
        "name": "ipython",
        "version": 3
      },
      "file_extension": ".py",
      "mimetype": "text/x-python",
      "name": "python",
      "nbconvert_exporter": "python",
      "pygments_lexer": "ipython3",
      "version": "3.8.5"
    },
    "colab": {
      "name": "Tutorial.ipynb",
      "provenance": [],
      "include_colab_link": true
    }
  },
  "cells": [
    {
      "cell_type": "markdown",
      "metadata": {
        "id": "view-in-github",
        "colab_type": "text"
      },
      "source": [
        "<a href=\"https://colab.research.google.com/github/RuwenSchulz/Test/blob/main/ed_1D_spinchain/Tutorial.ipynb\" target=\"_parent\"><img src=\"https://colab.research.google.com/assets/colab-badge.svg\" alt=\"Open In Colab\"/></a>"
      ]
    },
    {
      "cell_type": "code",
      "metadata": {
        "id": "XoEsQOyKpgH9",
        "colab": {
          "base_uri": "https://localhost:8080/"
        },
        "outputId": "a15fd76b-15bc-4a3d-de08-9c07227e5dfc"
      },
      "source": [
        "!git clone https://github.com/RuwenSchulz/Test.git\n",
        "\n",
        "%cd Test\n",
        "\n",
        "import ed_1D_spinchain.variables as variables\n",
        "variables.init()\n",
        "\n",
        "from ed_1D_spinchain.basis import *\n",
        "from ed_1D_spinchain.hamiltonian import *\n",
        "from ed_1D_spinchain.operators import *\n",
        "from ed_1D_spinchain.entanglementspectrum import *"
      ],
      "execution_count": 19,
      "outputs": [
        {
          "output_type": "stream",
          "text": [
            "Cloning into 'Test'...\n",
            "remote: Enumerating objects: 34, done.\u001b[K\n",
            "remote: Counting objects: 100% (34/34), done.\u001b[K\n",
            "remote: Compressing objects: 100% (26/26), done.\u001b[K\n",
            "remote: Total 34 (delta 6), reused 26 (delta 5), pack-reused 0\u001b[K\n",
            "Unpacking objects: 100% (34/34), done.\n",
            "/content/Test/Test/Test/Test/Test\n"
          ],
          "name": "stdout"
        }
      ]
    },
    {
      "cell_type": "markdown",
      "metadata": {
        "id": "9vEQbIVbr6T0"
      },
      "source": [
        "# New Section"
      ]
    },
    {
      "cell_type": "markdown",
      "metadata": {
        "id": "I6GVJFWCrJTV"
      },
      "source": [
        "# New Section"
      ]
    },
    {
      "cell_type": "markdown",
      "metadata": {
        "id": "4A0z8zKPr7OR"
      },
      "source": [
        "# New Section"
      ]
    },
    {
      "cell_type": "code",
      "metadata": {
        "id": "44FIp_YVpgIA",
        "colab": {
          "base_uri": "https://localhost:8080/"
        },
        "outputId": "bbeb2537-11a2-41e3-c8d4-801158d1d356"
      },
      "source": [
        "createbasis(5*[1])"
      ],
      "execution_count": 15,
      "outputs": [
        {
          "output_type": "stream",
          "text": [
            "created basis!\n"
          ],
          "name": "stdout"
        }
      ]
    },
    {
      "cell_type": "code",
      "metadata": {
        "id": "68wRyIpXpgIC",
        "colab": {
          "base_uri": "https://localhost:8080/"
        },
        "outputId": "d25d8ad7-58ef-4b9f-ad9b-9487596f1f8f"
      },
      "source": [
        "Hamiltonian()"
      ],
      "execution_count": 16,
      "outputs": [
        {
          "output_type": "execute_result",
          "data": {
            "text/plain": [
              "<243x243 sparse matrix of type '<class 'numpy.float64'>'\n",
              "\twith 1016 stored elements in Compressed Sparse Row format>"
            ]
          },
          "metadata": {
            "tags": []
          },
          "execution_count": 16
        }
      ]
    },
    {
      "cell_type": "code",
      "metadata": {
        "id": "0ckJ6t6ppgID",
        "colab": {
          "base_uri": "https://localhost:8080/"
        },
        "outputId": "539995a7-1ae4-4403-d3a3-d4932a8a51aa"
      },
      "source": [
        "entanglement_spectrum(cut=1)"
      ],
      "execution_count": null,
      "outputs": [
        {
          "output_type": "stream",
          "text": [
            "created basis!\n",
            "created basis!\n",
            "trace: 0.999999999999998\n"
          ],
          "name": "stdout"
        },
        {
          "output_type": "stream",
          "text": [
            "/usr/local/lib/python3.7/dist-packages/scipy/sparse/linalg/eigen/arpack/arpack.py:1592: RuntimeWarning: k >= N for N * N square matrix. Attempting to use scipy.linalg.eigh instead.\n",
            "  RuntimeWarning)\n"
          ],
          "name": "stderr"
        },
        {
          "output_type": "execute_result",
          "data": {
            "text/plain": [
              "([0.750140602853013,\n",
              "  0.19331869360926612,\n",
              "  0.04082470951593138,\n",
              "  0.011298634050703643,\n",
              "  0.0021628699403904808,\n",
              "  0.001180962086711361,\n",
              "  0.0005908347225058634,\n",
              "  0.0003566975430447163,\n",
              "  0.00012599567843150466,\n",
              "  9.138191640331372e-18,\n",
              "  6.390336897466769e-18,\n",
              "  4.758240316287422e-18,\n",
              "  3.6943240135709955e-18,\n",
              "  1.3030743485806766e-18,\n",
              "  1.1572907632774145e-18,\n",
              "  9.894103194414194e-20,\n",
              "  4.186339236161746e-20,\n",
              "  2.2895073417528987e-20,\n",
              "  -4.0021062692897365e-20,\n",
              "  -1.6797542235053543e-19,\n",
              "  -1.7335331317730454e-19,\n",
              "  -3.934113470805364e-19,\n",
              "  -5.6132307592016976e-18,\n",
              "  -5.849842797254144e-18,\n",
              "  -7.770633904487683e-18,\n",
              "  -4.1483109526379714e-17,\n",
              "  -4.259144445087721e-17],\n",
              " [0,\n",
              "  1,\n",
              "  2,\n",
              "  3,\n",
              "  4,\n",
              "  5,\n",
              "  6,\n",
              "  7,\n",
              "  8,\n",
              "  9,\n",
              "  10,\n",
              "  11,\n",
              "  12,\n",
              "  13,\n",
              "  14,\n",
              "  15,\n",
              "  16,\n",
              "  17,\n",
              "  18,\n",
              "  19,\n",
              "  20,\n",
              "  21,\n",
              "  22,\n",
              "  23,\n",
              "  24,\n",
              "  25,\n",
              "  26])"
            ]
          },
          "metadata": {
            "tags": []
          },
          "execution_count": 9
        }
      ]
    }
  ]
}