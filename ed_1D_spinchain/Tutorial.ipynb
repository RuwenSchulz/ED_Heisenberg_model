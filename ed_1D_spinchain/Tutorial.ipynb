{
  "nbformat": 4,
  "nbformat_minor": 0,
  "metadata": {
    "kernelspec": {
      "display_name": "Python 3",
      "language": "python",
      "name": "python3"
    },
    "language_info": {
      "codemirror_mode": {
        "name": "ipython",
        "version": 3
      },
      "file_extension": ".py",
      "mimetype": "text/x-python",
      "name": "python",
      "nbconvert_exporter": "python",
      "pygments_lexer": "ipython3",
      "version": "3.8.5"
    },
    "colab": {
      "name": "Tutorial.ipynb",
      "provenance": [],
      "toc_visible": true,
      "include_colab_link": true
    }
  },
  "cells": [
    {
      "cell_type": "markdown",
      "metadata": {
        "id": "view-in-github",
        "colab_type": "text"
      },
      "source": [
        "<a href=\"https://colab.research.google.com/github/RuwenSchulz/Test/blob/main/ed_1D_spinchain/Tutorial.ipynb\" target=\"_parent\"><img src=\"https://colab.research.google.com/assets/colab-badge.svg\" alt=\"Open In Colab\"/></a>"
      ]
    },
    {
      "cell_type": "code",
      "metadata": {
        "id": "XoEsQOyKpgH9"
      },
      "source": [
        "#@title <- Initialize (load and import packages)\n",
        "\n",
        "%%capture\n",
        "!git clone https://github.com/RuwenSchulz/Test.git\n",
        "\n",
        "%cd Test\n",
        "\n",
        "import ed_1D_spinchain.variables as variables\n",
        "variables.init()\n",
        "\n",
        "from ed_1D_spinchain.basis import *\n",
        "from ed_1D_spinchain.hamiltonian import *\n",
        "from ed_1D_spinchain.operators import *\n",
        "from ed_1D_spinchain.entanglementspectrum import *"
      ],
      "execution_count": 13,
      "outputs": []
    },
    {
      "cell_type": "markdown",
      "metadata": {
        "id": "Y41wQHLDi3l0"
      },
      "source": [
        "\n",
        "###    5.3.2: *U(1)*"
      ]
    },
    {
      "cell_type": "code",
      "metadata": {
        "cellView": "form",
        "id": "Wv-S2hk-j1cb",
        "outputId": "62df38a7-e099-4ee3-9298-b3592e83de72",
        "colab": {
          "base_uri": "https://localhost:8080/",
          "height": 314
        }
      },
      "source": [
        "#@title Motivation for U(1) symmetry\n",
        "\n",
        "from matplotlib.colors import Normalize\n",
        "import matplotlib.cm as cm\n",
        "import matplotlib\n",
        "fig, axes = plt.subplots(nrows=1, ncols=2,figsize=(10,5))\n",
        "cmap=cm.get_cmap('seismic')\n",
        "\n",
        "plt.setp(axes,xticks=np.arange(9),yticks=np.arange(9),xticklabels=[r'$\\left| 00\\right\\rangle$', r'$\\left| 01\\right\\rangle$',\n",
        "                                                                   r'$\\left| 10\\right\\rangle$',r'$\\left| 02\\right\\rangle$',\n",
        "                                                                   r'$\\left| 11 \\right\\rangle$', r'$\\left| 20\\right\\rangle$',\n",
        "                                                                   r'$\\left| 12\\right\\rangle$', r'$\\left| 21\\right\\rangle$',\n",
        "                                                                   r'$\\left| 22\\right\\rangle$'],\n",
        "          yticklabels=[r'$\\left| 00\\right\\rangle$', r'$\\left| 01\\right\\rangle$',\n",
        "                       r'$\\left| 10\\right\\rangle$',r'$\\left| 02\\right\\rangle$',\n",
        "                       r'$\\left| 11 \\right\\rangle$', r'$\\left| 20\\right\\rangle$',\n",
        "                       r'$\\left| 12\\right\\rangle$', r'$\\left| 21\\right\\rangle$',\n",
        "                       r'$\\left| 22\\right\\rangle$'])\n",
        "vmin = -1 \n",
        "vmax = 1\n",
        "norm= matplotlib.colors.TwoSlopeNorm(vmin=vmin, vcenter=0, vmax=vmax)\n",
        "\n",
        "\n",
        "createbasis(2*[1])\n",
        "sort_basis_s_z()\n",
        "\n",
        "H=Hamiltonian(bc=0,J_z=1,J_xy=0,D=0,h=0,k=2,block=False)\n",
        "\n",
        "axes[0].imshow(H.toarray(),cmap=cmap,norm=norm)\n",
        "axes[0].tick_params(axis='both', which='major', labelsize=15)\n",
        "\n",
        "H=Hamiltonian(bc=0,J_z=0,J_xy=1,D=0,h=0,k=2,block=False)\n",
        "\n",
        "axes[1].tick_params(axis='both', which='major', labelsize=15)\n",
        "c=axes[1].imshow(H.toarray(),cmap=cmap,norm=norm)\n",
        "\n",
        "axes[0].xaxis.tick_top()\n",
        "axes[1].xaxis.tick_top()\n",
        "axes[0].xaxis.set_ticks_position('none') \n",
        "axes[0].yaxis.set_ticks_position('none') \n",
        "axes[1].xaxis.set_ticks_position('none') \n",
        "axes[1].yaxis.set_ticks_position('none') \n",
        "\n",
        "axes[1].axhline(0.48, linestyle='-', color='k', linewidth=1)\n",
        "axes[1].axvline(0.5, linestyle='-', color='k', linewidth=1)\n",
        "axes[1].axhline(2.5, linestyle='-', color='k', linewidth=1)\n",
        "axes[1].axvline(2.5, linestyle='-', color='k', linewidth=1)\n",
        "axes[1].axhline(5.48, linestyle='-', color='k', linewidth=1)\n",
        "axes[1].axvline(5.5, linestyle='-', color='k', linewidth=1)\n",
        "axes[1].axhline(7.45, linestyle='-', color='k', linewidth=1)\n",
        "axes[1].axvline(7.5, linestyle='-', color='k', linewidth=1)\n",
        "\n",
        "axes[0].axhline(0.48, linestyle='-', color='k', linewidth=1)\n",
        "axes[0].axvline(0.5, linestyle='-', color='k', linewidth=1)\n",
        "axes[0].axhline(2.5, linestyle='-', color='k', linewidth=1)\n",
        "axes[0].axvline(2.5, linestyle='-', color='k', linewidth=1)\n",
        "axes[0].axhline(5.48, linestyle='-', color='k', linewidth=1)\n",
        "axes[0].axvline(5.5, linestyle='-', color='k', linewidth=1)\n",
        "axes[0].axhline(7.47, linestyle='-', color='k', linewidth=1)\n",
        "axes[0].axvline(7.5, linestyle='-', color='k', linewidth=1)\n",
        "\n",
        "\n",
        "fig.colorbar(c,ax=axes,fraction=0.02, pad=0.04)\n",
        "plt.show()"
      ],
      "execution_count": 31,
      "outputs": [
        {
          "output_type": "stream",
          "text": [
            "created basis!\n"
          ],
          "name": "stdout"
        },
        {
          "output_type": "display_data",
          "data": {
            "image/png": "[encoded data removed]",
            "text/plain": [
              "<Figure size 720x360 with 3 Axes>"
            ]
          },
          "metadata": {
            "tags": [],
            "needs_background": "light"
          }
        }
      ]
    },
    {
      "cell_type": "markdown",
      "metadata": {
        "id": "QM2JHRcLm_tY"
      },
      "source": [
        "#5.5.1: Block diagonalization"
      ]
    },
    {
      "cell_type": "code",
      "metadata": {
        "cellView": "form",
        "id": "PiRrrIPPmSao",
        "outputId": "a852c784-11c4-4378-9c8f-85209f3784c3",
        "colab": {
          "base_uri": "https://localhost:8080/",
          "height": 302
        }
      },
      "source": [
        "#@title Block diagonal Hamiltonian wrp. to Sz\n",
        "createbasis(3*[1])\n",
        "\n",
        "hamiltonian1=Hamiltonian(bc=0,D=0,J_z=1,J_xy=1,h=0,g=0,k=2,state=0,block=False)\n",
        "\n",
        "sort_basis_s_z()\n",
        "hamiltonian2=Hamiltonian(bc=0,D=0,J_z=1,J_xy=1,h=0,g=0,k=1,state=0,block=False)\n",
        "\n",
        "fig, ax1 = plt.subplots(1,2,figsize=(10,5))\n",
        "\n",
        "c=ax1[0].matshow(hamiltonian1.toarray(), cmap=\"seismic\")\n",
        "ax1[0].set_xticks([])\n",
        "ax1[0].set_yticks([])\n",
        "\n",
        "c=ax1[1].matshow(hamiltonian2.toarray(), cmap=\"seismic\")\n",
        "ax1[1].set_xticks([])\n",
        "ax1[1].set_yticks([])\n",
        "fig.colorbar(c,ax=ax1,fraction=0.02, pad=0.08)\n",
        "ax1[1].axhline(0.3, linestyle='-', color='k', linewidth=1)\n",
        "ax1[1].axvline(0.4, linestyle='-', color='k', linewidth=1)\n",
        "\n",
        "ax1[1].axhline(3.4, linestyle='-', color='k', linewidth=1)\n",
        "ax1[1].axvline(3.4, linestyle='-', color='k', linewidth=1)\n",
        "\n",
        "ax1[1].axhline(9.3, linestyle='-', color='k', linewidth=1)\n",
        "ax1[1].axvline(9.5, linestyle='-', color='k', linewidth=1)\n",
        "ax1[1].axhline(16.3, linestyle='-', color='k', linewidth=1)\n",
        "ax1[1].axvline(16.5, linestyle='-', color='k', linewidth=1)\n",
        "ax1[1].axhline(22.5, linestyle='-', color='k', linewidth=1)\n",
        "ax1[1].axvline(22.5, linestyle='-', color='k', linewidth=1)\n",
        "ax1[1].axhline(25.5, linestyle='-', color='k', linewidth=1)\n",
        "ax1[1].axvline(25.5, linestyle='-', color='k', linewidth=1)"
      ],
      "execution_count": 29,
      "outputs": [
        {
          "output_type": "stream",
          "text": [
            "created basis!\n"
          ],
          "name": "stdout"
        },
        {
          "output_type": "execute_result",
          "data": {
            "text/plain": [
              "<matplotlib.lines.Line2D at 0x7f16fc63f750>"
            ]
          },
          "metadata": {
            "tags": []
          },
          "execution_count": 29
        },
        {
          "output_type": "display_data",
          "data": {
            "image/png": "[encoded data removed]",
            "text/plain": [
              "<Figure size 720x360 with 3 Axes>"
            ]
          },
          "metadata": {
            "tags": [],
            "needs_background": "light"
          }
        }
      ]
    },
    {
      "cell_type": "code",
      "metadata": {
        "id": "BuJYXI1Fnxv9",
        "outputId": "0f6010b1-800b-4db9-d0b0-a5e1292454e3",
        "colab": {
          "base_uri": "https://localhost:8080/"
        }
      },
      "source": [
        "#@title Block diagonal wrp to Sz and parity\n",
        "\n",
        "\n",
        "createbasis(6*[1])\n",
        "\n",
        "H=Hamiltonian(block=False)\n",
        "print(H.shape)\n",
        "print(variables.spectrum)\n",
        "\n",
        "\n",
        "H=Hamiltonian(block=0)\n",
        "print(H.shape)\n",
        "print(variables.spectrum)\n",
        "\n",
        "def bond_centered_inversion(cutbond):\n",
        "    mapping_map={}\n",
        "    for u in range(len(variables.basis_index_element_map)):\n",
        "        left=variables.basis_index_element_map[u][:cutbond]\n",
        "        right=variables.basis_index_element_map[u][cutbond:]\n",
        "        left.reverse()\n",
        "        right.reverse()\n",
        "        inversion=(right+left)\n",
        "        mapping_map[u]=variables.basis_element_index_map[str(inversion)]\n",
        "    return mapping_map\n",
        "\n",
        "aaa=bond_centered_inversion(1)\n",
        "L=len(variables.basis_index_element_map)\n",
        "U_parity=scipy.sparse.lil_matrix((L,L), dtype=int)\n",
        "U_parity=U_parity.asfptype()\n",
        "for i in range(0,len(aaa)):\n",
        "    U_parity[aaa[i],i]=1\n",
        "\n",
        "eigs=eigsh(U_parity,k=0.6*L,which='LA')\n",
        "aa=eigs[0].copy()\n",
        "aa.sort()\n",
        "pairs=[[eigs[0][i],eigs[1][:,i]] for i in range(len(eigs[0]))]\n",
        "\n",
        "pos_count = len(list(filter(lambda x: (x > 0), aa)))\n",
        "pairs2=sorted(pairs, key=lambda x:x[0],reverse=True)\n",
        "x = [y[1] for y in pairs2[:pos_count]]\n",
        "U3=np.vstack(x)\n",
        "U3=scipy.sparse.csc_matrix(U3)\n",
        "\n",
        "tmp=scipy.sparse.csc_matrix.dot(H,U3.transpose())\n",
        "H_tilde=scipy.sparse.csc_matrix.dot(U3,tmp)\n",
        "eigs2=eigsh(H_tilde,k=2)\n",
        "print(H_tilde.shape)\n",
        "print(eigs2[0])"
      ],
      "execution_count": 129,
      "outputs": [
        {
          "output_type": "stream",
          "text": [
            "created basis!\n",
            "(729, 729)\n",
            "[-7.37027497 -7.06248941 -7.06248941]\n",
            "(141, 141)\n",
            "[-7.37027497 -7.06248941 -6.0185334 ]\n",
            "(74, 74)\n",
            "[-7.37027497 -6.0185334 ]\n"
          ],
          "name": "stdout"
        }
      ]
    },
    {
      "cell_type": "markdown",
      "metadata": {
        "id": "4S1qG8efng0p"
      },
      "source": [
        "# New Section"
      ]
    }
  ]
}