{
  "nbformat": 4,
  "nbformat_minor": 0,
  "metadata": {
    "kernelspec": {
      "display_name": "Python 3",
      "language": "python",
      "name": "python3"
    },
    "language_info": {
      "codemirror_mode": {
        "name": "ipython",
        "version": 3
      },
      "file_extension": ".py",
      "mimetype": "text/x-python",
      "name": "python",
      "nbconvert_exporter": "python",
      "pygments_lexer": "ipython3",
      "version": "3.8.5"
    },
    "colab": {
      "name": "Tutorial.ipynb",
      "provenance": [],
      "include_colab_link": true
    }
  },
  "cells": [
    {
      "cell_type": "markdown",
      "metadata": {
        "id": "view-in-github",
        "colab_type": "text"
      },
      "source": [
        "<a href=\"https://colab.research.google.com/github/RuwenSchulz/Test/blob/main/ed_1D_spinchain/Tutorial.ipynb\" target=\"_parent\"><img src=\"https://colab.research.google.com/assets/colab-badge.svg\" alt=\"Open In Colab\"/></a>"
      ]
    },
    {
      "cell_type": "code",
      "metadata": {
        "id": "XoEsQOyKpgH9",
        "cellView": "form"
      },
      "source": [
        "#@title <- Initialize (load and import packages)\n",
        "\n",
        "%%capture\n",
        "!git clone https://github.com/RuwenSchulz/Test.git\n",
        "\n",
        "%cd Test\n",
        "\n",
        "import ed_1D_spinchain.variables as variables\n",
        "variables.init()\n",
        "\n",
        "from ed_1D_spinchain.basis import *\n",
        "from ed_1D_spinchain.hamiltonian import *\n",
        "from ed_1D_spinchain.operators import *\n",
        "from ed_1D_spinchain.entanglementspectrum import *"
      ],
      "execution_count": 28,
      "outputs": []
    },
    {
      "cell_type": "markdown",
      "metadata": {
        "id": "aJQh5bTk0xRF"
      },
      "source": [
        "# Functions and functionality\n"
      ]
    },
    {
      "cell_type": "markdown",
      "metadata": {
        "id": "NQDP_TtV1kl2"
      },
      "source": [
        "## Build a the basis"
      ]
    },
    {
      "cell_type": "markdown",
      "metadata": {
        "id": "NiuNH72y1xmC"
      },
      "source": [
        "The first step will be to build the basis of the Hilbertspace.\n",
        "The function \"createbasis\" builds a basis for a 1D spinchain of choosen length. The spin value at each site of the chain is free to choose.\n",
        "\n",
        "inputtype: list\n",
        "example: [1,1,1,1,1] or [1/2,1,1,1,1,1/2] or 5*[1]"
      ]
    },
    {
      "cell_type": "code",
      "metadata": {
        "id": "44FIp_YVpgIA",
        "colab": {
          "base_uri": "https://localhost:8080/"
        },
        "outputId": "215ec991-dc02-468d-c1f0-01074b360f3a"
      },
      "source": [
        "createbasis(6*[1])"
      ],
      "execution_count": 35,
      "outputs": [
        {
          "output_type": "stream",
          "text": [
            "created basis!\n"
          ],
          "name": "stdout"
        }
      ]
    },
    {
      "cell_type": "markdown",
      "metadata": {
        "id": "HLcLq-r22gkd"
      },
      "source": [
        "The function provides severeal global parameters. \n",
        "After the function was excecuted the following parameters are defined:\n",
        "variables.lenbasisstates \n",
        "\n",
        "*   variables.basis_element_index_map\n",
        "\n",
        "> *A map wich takes the index of a basisstate and returns the representation.* \n",
        "\n",
        "\n",
        "*   variables.basis_index_element_map\n",
        "\n",
        "> *A map wich takes a representation and returns the correponding index.*\n",
        "\n",
        "*   variables.lenbasisstates\n",
        "\n",
        "> *The number of basisstates.*\n",
        "\n",
        "*   variables.spinlist\n",
        "\n",
        "> *The initial paramter of \"createbasis\".*\n",
        "\n",
        "\n",
        "\n",
        "\n",
        "\n"
      ]
    },
    {
      "cell_type": "code",
      "metadata": {
        "id": "68wRyIpXpgIC",
        "colab": {
          "base_uri": "https://localhost:8080/"
        },
        "outputId": "c1044dec-396e-43d0-fbf6-2d02e6f6132f"
      },
      "source": [
        "Hamiltonian()"
      ],
      "execution_count": 36,
      "outputs": [
        {
          "output_type": "execute_result",
          "data": {
            "text/plain": [
              "<729x729 sparse matrix of type '<class 'numpy.float64'>'\n",
              "\twith 3772 stored elements in Compressed Sparse Row format>"
            ]
          },
          "metadata": {
            "tags": []
          },
          "execution_count": 36
        }
      ]
    },
    {
      "cell_type": "code",
      "metadata": {
        "id": "0ckJ6t6ppgID",
        "colab": {
          "base_uri": "https://localhost:8080/"
        },
        "outputId": "479b9735-7fae-4719-b7a2-5bd3067cd2a6"
      },
      "source": [
        "entanglement_spectrum(cut=1)[0]"
      ],
      "execution_count": 38,
      "outputs": [
        {
          "output_type": "stream",
          "text": [
            "created basis!\n",
            "created basis!\n",
            "trace: 1.0000000000000022\n"
          ],
          "name": "stdout"
        },
        {
          "output_type": "execute_result",
          "data": {
            "text/plain": [
              "[0.7008592029580841,\n",
              " 0.09777981161800568,\n",
              " 0.09777981161800502,\n",
              " 0.09777981161800371,\n",
              " 0.001160272437580744,\n",
              " 0.0011602724375807392,\n",
              " 0.0011602724375807288,\n",
              " 0.0011602724375807194,\n",
              " 0.0011602724375807103,\n",
              " 2.6322693358444253e-17,\n",
              " 1.868342377087934e-17,\n",
              " 1.4507086411046615e-17,\n",
              " 9.85502305760699e-18,\n",
              " 9.644047219793816e-18,\n",
              " 7.435905415603564e-18,\n",
              " 5.101727380258158e-18,\n",
              " 4.314309347513009e-18,\n",
              " 4.219811418436942e-18,\n",
              " 2.6254393790818365e-18,\n",
              " 2.3914261999918166e-18,\n",
              " 2.3678355012941828e-18,\n",
              " 1.4232651179062138e-18,\n",
              " 1.3645168128863182e-18,\n",
              " 1.1416528132837528e-18,\n",
              " 1.0044466266824127e-18,\n",
              " 8.420810398964347e-19,\n",
              " 7.974322477477084e-19,\n",
              " 5.906417409567056e-19,\n",
              " 4.277258347802037e-19,\n",
              " 3.5078863270570744e-19]"
            ]
          },
          "metadata": {
            "tags": []
          },
          "execution_count": 38
        }
      ]
    }
  ]
}