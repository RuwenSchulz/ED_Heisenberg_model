{
 "cells": [
  {
   "cell_type": "code",
   "execution_count": null,
   "metadata": {},
   "outputs": [],
   "source": [
    "Import"
   ]
  },
  {
   "cell_type": "code",
   "execution_count": 2,
   "metadata": {
    "jupyter": {
     "source_hidden": true
    }
   },
   "outputs": [],
   "source": [
    "from tenpy.networks.mps import MPS, TransferMatrix\n",
    "from tenpy.networks.site import Site,SpinSite,SpinHalfSite\n",
    "from tenpy.models.spins import SpinModel\n",
    "from tenpy.algorithms import dmrg\n",
    "from tenpy.linalg.np_conserved import expm,Array\n",
    "from tenpy.linalg.np_conserved import norm\n",
    "from tenpy.models.lattice import Site, Chain\n",
    "from tenpy.models.model import CouplingModel, NearestNeighborModel, MPOModel, CouplingMPOModel\n",
    "from tenpy.linalg import np_conserved as npc\n",
    "from tenpy.tools.params import get_parameter, unused_parameters\n",
    "import tenpy.linalg.np_conserved as npc\n",
    "\n",
    "import numpy as np\n",
    "import matplotlib.pyplot as plt\n",
    "\n",
    "import cmath\n",
    "import math\n",
    "import tenpy\n",
    "\n",
    "from scipy.sparse.linalg import eigs, eigsh\n",
    "from scipy.sparse import diags, kron, csr_matrix,coo_matrix, bmat\n",
    "from scipy.linalg import expm, sinm, cosm\n"
   ]
  },
  {
   "cell_type": "markdown",
   "metadata": {},
   "source": [
    "Heisenberg Chain, finite, with open, periodic or antiperiodic boundary conditions"
   ]
  },
  {
   "cell_type": "code",
   "execution_count": 2,
   "metadata": {
    "jupyter": {
     "source_hidden": true
    }
   },
   "outputs": [],
   "source": [
    "from tenpy.models.model import CouplingMPOModel\n",
    "class HeisenbergChain_boundary_conditions(CouplingMPOModel):\n",
    "    default_lattice = \"Chain\"\n",
    "    force_default_lattice = True\n",
    "\n",
    "    def init_sites(self, model_params):\n",
    "        return SpinSite(S=1,conserve=None) \n",
    "        \n",
    "    def init_terms(self, model_params):\n",
    "        site=SpinSite(S=1,conserve=None)\n",
    "        J_z = 1.  # the strength\n",
    "        J_x = 1.\n",
    "        J_y = 1. \n",
    "        D=model_params[\"D\"]\n",
    "        bc=model_params[\"bc\"]\n",
    "        for u1, u2, dx in self.lat.pairs['nearest_neighbors']:\n",
    "            #print(u1,u2,dx)\n",
    "            self.add_coupling(J_z, u1, 'Sz', u2, 'Sz', dx)\n",
    "            self.add_coupling(J_x, u1, 'Sx', u2, 'Sx', dx)\n",
    "            self.add_coupling(J_y, u1, 'Sy', u2, 'Sy', dx)\n",
    "            self.add_onsite(D, u1, 'Sz Sz')\n",
    "        L=model_params[\"L\"]-1\n",
    "        self.add_coupling_term(J_z, 0, L, 'Sz', 'Sz', op_string='Id')\n",
    "        self.add_coupling_term(bc, 0, L, 'Sx', 'Sx', op_string='Id')\n",
    "        self.add_coupling_term(bc, 0, L, 'Sy', 'Sy', op_string='Id')"
   ]
  },
  {
   "cell_type": "markdown",
   "metadata": {},
   "source": [
    "Time reversal order parameter for infinite MPS "
   ]
  },
  {
   "cell_type": "code",
   "execution_count": null,
   "metadata": {
    "jupyter": {
     "source_hidden": true
    }
   },
   "outputs": [],
   "source": [
    "def DMRG_psi(N,D):\n",
    "    model = SpinModel({\"S\":1,\"L\": 10, \"Jx\": 1.,\"Jy\":1.,\"muJ\":0,\"Jz\": 1.,\"D\":D,\"hx\": 0, \"conserve\":None,\"bc_MPS\": \"infinite\"})\n",
    "    sites = model.lat.mps_sites()\n",
    "    psi = MPS.from_product_state(sites, [\"up\", \"down\"] * (N//2), \"infinite\")\n",
    "    dmrg_params = {\"trunc_params\": {\"chi_max\": 100, \"svd_min\": 1.e-7}, \"mixer\": True}\n",
    "    info = dmrg.run(psi, model, dmrg_params)\n",
    "    return psi\n",
    "\n",
    "def norm_U(U):\n",
    "    return np.sqrt((np.trace(np.dot(U,U.conj().T))*U.shape[0]))\n",
    "\n",
    "def rotation(alpha,operator_tilde):\n",
    "        return expm(1j*cmath.pi*(operator_tilde)*alpha)\n",
    "    \n",
    "def time_reversal_projective_representations_eigvals(psi):\n",
    "    L=psi.L\n",
    "    row  = np.array([2,1,1,0])\n",
    "    col  = np.array([1,2,0,1])\n",
    "    data = np.array([1,-1,1,-1])\n",
    "    S_y=1/np.sqrt(2)*1j*coo_matrix((data, (row, col)), shape=(3, 3))\n",
    "    R_TR = npc.Array.from_ndarray_trivial(rotation(1,S_y.toarray()),labels=['p','p*'])\n",
    "    psi2=psi.copy()\n",
    "    for i in range(L):\n",
    "        psi2.apply_local_op(i,R_TR)\n",
    "    \n",
    "    eigvals1, vawr = TransferMatrix(psi,psi2,shift_bra=0,shift_ket=0).eigenvectors(1)\n",
    "    #print(eigvals1)\n",
    "    TR=vawr[0].split_legs().to_ndarray()\n",
    "    TR=norm_U(TR)*TR\n",
    "    return TR,eigvals1[0]\n",
    "\n",
    "    \n",
    "def TR_order_parameter(TR,eigval1):\n",
    "    eigval1=math.isclose(eigval1, 1, rel_tol=1e-02, abs_tol=0.0)\n",
    "    if (eigval1):\n",
    "        return 1/(min(TR.shape))*np.trace(np.dot(TR,TR.conj())).real   \n",
    "    else: \n",
    "        return 0\n",
    "\n",
    "#Just execute this with N= length, D= sing\n",
    "def O_TR_D(N,D):\n",
    "    psi=DMRG_psi(N,D)\n",
    "    TR, eigval1=time_reversal_projective_representations_eigvals(psi)\n",
    "    print(eigval1)\n",
    "    return TR_order_parameter(TR,eigval1)"
   ]
  },
  {
   "cell_type": "markdown",
   "metadata": {},
   "source": [
    "Z2xZ2 order parameter for infinite MPS"
   ]
  },
  {
   "cell_type": "code",
   "execution_count": null,
   "metadata": {
    "jupyter": {
     "source_hidden": true
    }
   },
   "outputs": [],
   "source": [
    "def DMRG_psi(N,D):\n",
    "    model = SpinModel({\"S\":1,\"L\": 10, \"Jx\": 1.,\"Jy\":1.,\"muJ\":0,\"Jz\": 1.,\"D\":D,\"hx\": 0, \"conserve\":None,\"bc_MPS\": \"infinite\"})\n",
    "    sites = model.lat.mps_sites()\n",
    "    psi = MPS.from_product_state(sites, [\"up\", \"down\"] * (N//2), \"infinite\")\n",
    "    dmrg_params = {\"trunc_params\": {\"chi_max\": 100, \"svd_min\": 1.e-7}, \"mixer\": True}\n",
    "    info = dmrg.run(psi, model, dmrg_params)\n",
    "    return psi\n",
    "\n",
    "def norm_U(U):\n",
    "    return np.sqrt((np.trace(np.dot(U,U.conj().T))*U.shape[0]))\n",
    "\n",
    "def rotation(alpha,operator_tilde):\n",
    "    return expm(1j*cmath.pi*(operator_tilde)*alpha)\n",
    "    \n",
    "def Z2xZ2_projective_representations_eigvals(psi):\n",
    "    L=psi.L\n",
    "    row  = np.array([0,1,2])\n",
    "    col  = np.array([0,1,2])\n",
    "    data = np.array([1,0,-1])\n",
    "    S_z=coo_matrix((data, (row, col)), shape=(3, 3))\n",
    "\n",
    "    row  = np.array([2,1,1,0])\n",
    "    col  = np.array([1,2,0,1])\n",
    "    data = np.array([1,1,1,1])\n",
    "    S_x=np.sqrt(1/2)*coo_matrix((data, (row, col)), shape=(3, 3))\n",
    "    \n",
    "    row  = np.array([2,1,1,0])\n",
    "    col  = np.array([1,2,0,1])\n",
    "    data = np.array([1,1,-1,-1])\n",
    "    S_y=np.sqrt(1/2*1j)*coo_matrix((data, (row, col)), shape=(3, 3))\n",
    "    \n",
    "    row  = np.array([2,0,1])\n",
    "    col  = np.array([0,2,1])\n",
    "    data = np.array([1,1,-1])\n",
    "    S_x_S_z_rotation=coo_matrix((data, (row, col)), shape=(3, 3))\n",
    "\n",
    "\n",
    "    R_z = npc.Array.from_ndarray_trivial(rotation(1,S_z.toarray()),labels=['p','p*'])\n",
    "    R_x = npc.Array.from_ndarray_trivial(rotation(1,S_x.toarray()),labels=['p','p*'])\n",
    "    \n",
    "    psi2=psi.copy()\n",
    "    for i in range(L):\n",
    "        psi2.apply_local_op(i,R_z)\n",
    "    psi3=psi.copy()\n",
    "    for i in range(L):\n",
    "        psi3.apply_local_op(i,R_x)\n",
    "    \n",
    "    eigvals1, vawr = TransferMatrix(psi,psi2,shift_bra=0,shift_ket=0).eigenvectors(1)\n",
    "    \n",
    "    Uz=vawr[0].split_legs().to_ndarray()\n",
    "    eigvals2, vawr= TransferMatrix(psi,psi3,shift_bra=0,shift_ket=0).eigenvectors(1)\n",
    "    Ux=vawr[0].split_legs().to_ndarray()\n",
    "    Ux=norm_U(Ux)*Ux\n",
    "    Uz=norm_U(Uz)*Uz\n",
    "    return Uz,Ux,eigvals1.real[0],eigvals2.real[0]\n",
    "\n",
    "\n",
    "\n",
    "\n",
    "def Z2xZ2_order_parameter(Uz,Ux,eigval1,eigval2):\n",
    "    eigval1=math.isclose(eigval1, 1, rel_tol=1e-02, abs_tol=0.0)\n",
    "    eigval2=math.isclose(eigval2, 1, rel_tol=1e-02, abs_tol=0.0)\n",
    "    if (eigval1 and eigval2):\n",
    "        return 1/(min(Ux.shape))*np.trace(np.dot(np.dot(Uz,Ux),np.dot(Uz.conj(),Ux.conj()))).real\n",
    "        \n",
    "    else: \n",
    "        return 0\n",
    "    \n",
    "\n",
    "\n",
    "\n",
    "#Just execute this with N= length, D= single ion anisotropy\n",
    "def O_Z2_Z2_D(N,D):\n",
    "    psi=DMRG_psi(N,D)\n",
    "    Uz,Ux,eigval1,eigval2=Z2xZ2_projective_representations_eigvals(psi)\n",
    "    print(eigval1,eigval2)\n",
    "    return Z2xZ2_order_parameter(Uz,Ux,eigval1,eigval2)\n"
   ]
  },
  {
   "cell_type": "markdown",
   "metadata": {},
   "source": [
    "Haldane and surface gap"
   ]
  },
  {
   "cell_type": "code",
   "execution_count": null,
   "metadata": {
    "jupyter": {
     "source_hidden": true
    }
   },
   "outputs": [],
   "source": [
    "gap_haldane_even=[]\n",
    "gap_surface_even=[]\n",
    "x_data=[]\n",
    "for N in np.arange(10,161,30):\n",
    "    energies=[]\n",
    "    N = N # number of sites\n",
    "    model = SpinModel({\"S\":1,\"L\": N, \"Jx\": 1.,\"Jy\":1.,\"muJ\":0,\"Jz\": 1.,\"D\":0,\"hx\": 0, \"conserve\":'Sz',\"bc_MPS\": \"finite\"})\n",
    "    sites = model.lat.mps_sites()\n",
    "    psi0 = MPS.from_product_state(sites, [\"up\", \"down\"] * (N//2), \"finite\")\n",
    "    dmrg_params = {\"trunc_params\": {\"chi_max\": 200, \"svd_min\": 1.e-7}, \"mixer\": True}\n",
    "    states = dmrg_params['orthogonal_to'] = []\n",
    "    for i in range(3):\n",
    "        psi = psi0.copy()\n",
    "        results = dmrg.run(psi, model, dmrg_params)\n",
    "        energies.append(results['E'])\n",
    "        states.append(psi)\n",
    "    gap_surface_even.append(energies[1]-energies[0])\n",
    "    gap_haldane_even.append(energies[2]-energies[0])\n",
    "\n",
    "    x_data.append(N)\n",
    "    print(N,end=\"\\r\")"
   ]
  },
  {
   "cell_type": "markdown",
   "metadata": {},
   "source": [
    "Correlation length via transfermatrix"
   ]
  },
  {
   "cell_type": "code",
   "execution_count": null,
   "metadata": {
    "jupyter": {
     "source_hidden": true
    }
   },
   "outputs": [],
   "source": [
    "D_list=[]\n",
    "c_list=[]\n",
    "for D in np.arange(0,1.5,0.1):\n",
    "    N = 2\n",
    "    model = SpinModel({\"S\":1,\"L\": N, \"Jx\": 1.,\"Jy\":1.,\"Jz\": 1.,\"D\":D,\"g\": 0, \"conserve\":'best',\"bc_MPS\": \"infinite\"})\n",
    "    sites = model.lat.mps_sites()\n",
    "    psi = MPS.from_product_state(sites, [\"up\", \"down\"] * (N//2), \"infinite\")\n",
    "    dmrg_params = {\"trunc_params\": {\"chi_max\": 50, \"svd_min\": 1.e-7}, \"mixer\": True}\n",
    "    info = dmrg.run(psi, model, dmrg_params)\n",
    "    c_list.append(psi.correlation_length())\n",
    "    D_list.append(D)"
   ]
  },
  {
   "cell_type": "markdown",
   "metadata": {},
   "source": [
    "Convergence of entanglement entropy, Area Law"
   ]
  },
  {
   "cell_type": "code",
   "execution_count": 3,
   "metadata": {
    "collapsed": true,
    "jupyter": {
     "outputs_hidden": true,
     "source_hidden": true
    }
   },
   "outputs": [
    {
     "name": "stdout",
     "output_type": "stream",
     "text": [
      "Reading 'bc_MPS'='finite' for config SpinModel\n",
      "Reading 'S'=1 for config SpinModel\n",
      "Reading 'conserve'=None for config SpinModel\n",
      "Reading 'L'=10 for config SpinModel\n",
      "Reading 'Jx'=1.0 for config SpinModel\n",
      "Reading 'Jy'=1.0 for config SpinModel\n",
      "Reading 'Jz'=1.0 for config SpinModel\n",
      "Reading 'D'=0 for config SpinModel\n",
      "Subconfig 'trunc_params'=Config(<3 options>, 'trunc_params') for config DMRG\n",
      "Reading 'mixer'=True for config DMRG\n"
     ]
    },
    {
     "name": "stderr",
     "output_type": "stream",
     "text": [
      "/home/rschulz/anaconda3/lib/python3.8/site-packages/tenpy/tools/params.py:225: UserWarning: unused option ['g'] for config SpinModel\n",
      "\n",
      "  warnings.warn(msg.format(keys=sorted(unused), name=self.name))\n"
     ]
    },
    {
     "name": "stdout",
     "output_type": "stream",
     "text": [
      "================================================================================\n",
      "sweep 10, age = 10\n",
      "Energy = -12.8945601322043135, S = nan, norm_err = 2.1e-11\n",
      "Current memory usage 136.6 MB, time elapsed: 10.8 s\n",
      "Delta E = nan, Delta S = 0.0000e+00 (per sweep)\n",
      "max_trunc_err = 1.1350e-12, max_E_trunc = 7.3115e-12\n",
      "MPS bond dimensions: [3, 9, 27, 81, 100, 81, 27, 9, 3]\n",
      "disable mixer after 15 sweeps, final amplitude 3.05e-10\n",
      "================================================================================\n",
      "sweep 20, age = 10\n",
      "Energy = -12.8945601322042585, S = 1.1684060642655454, norm_err = 9.6e-12\n",
      "Current memory usage 136.6 MB, time elapsed: 17.9 s\n",
      "Delta E = 5.5067e-15, Delta S = nan (per sweep)\n",
      "max_trunc_err = 5.6586e-13, max_E_trunc = 6.7200e-12\n",
      "MPS bond dimensions: [3, 9, 27, 81, 100, 81, 27, 9, 3]\n",
      "================================================================================\n",
      "sweep 30, age = 10\n",
      "Energy = -12.8945601322042602, S = 1.1684060642708161, norm_err = 2.3e-11\n",
      "Current memory usage 136.6 MB, time elapsed: 23.4 s\n",
      "Delta E = -1.7764e-16, Delta S = 5.2707e-13 (per sweep)\n",
      "max_trunc_err = 5.6752e-13, max_E_trunc = 6.7271e-12\n",
      "MPS bond dimensions: [3, 9, 27, 81, 100, 81, 27, 9, 3]\n",
      "================================================================================\n",
      "DMRG finished after 30 sweeps.\n",
      "total size = 10, maximum chi = 100\n",
      "================================================================================\n",
      "Reading 'bc_MPS'='finite' for config SpinModel\n",
      "Reading 'S'=1 for config SpinModel\n",
      "Reading 'conserve'=None for config SpinModel\n",
      "Reading 'L'=14 for config SpinModel\n",
      "Reading 'Jx'=1.0 for config SpinModel\n",
      "Reading 'Jy'=1.0 for config SpinModel\n",
      "Reading 'Jz'=1.0 for config SpinModel\n",
      "Reading 'D'=0 for config SpinModel\n",
      "Subconfig 'trunc_params'=Config(<3 options>, 'trunc_params') for config DMRG\n",
      "Reading 'mixer'=True for config DMRG\n"
     ]
    },
    {
     "name": "stderr",
     "output_type": "stream",
     "text": [
      "/home/rschulz/anaconda3/lib/python3.8/site-packages/tenpy/tools/params.py:225: UserWarning: unused option ['g'] for config SpinModel\n",
      "\n",
      "  warnings.warn(msg.format(keys=sorted(unused), name=self.name))\n"
     ]
    },
    {
     "name": "stdout",
     "output_type": "stream",
     "text": [
      "================================================================================\n",
      "sweep 10, age = 14\n",
      "Energy = -18.4598526614705918, S = nan, norm_err = 1.4e-09\n",
      "Current memory usage 151.9 MB, time elapsed: 29.3 s\n",
      "Delta E = nan, Delta S = 0.0000e+00 (per sweep)\n",
      "max_trunc_err = 6.9500e-11, max_E_trunc = 3.3289e-10\n",
      "MPS bond dimensions: [3, 9, 27, 81, 100, 100, 100, 100, 100, 81, 27, 9, 3]\n",
      "disable mixer after 15 sweeps, final amplitude 3.05e-10\n",
      "================================================================================\n",
      "sweep 20, age = 14\n",
      "Energy = -18.4598526614735619, S = 1.2506057422988013, norm_err = 1.1e-09\n",
      "Current memory usage 151.9 MB, time elapsed: 49.0 s\n",
      "Delta E = -2.9701e-13, Delta S = nan (per sweep)\n",
      "max_trunc_err = 3.4150e-11, max_E_trunc = 3.2128e-10\n",
      "MPS bond dimensions: [3, 9, 27, 81, 100, 100, 100, 100, 100, 81, 27, 9, 3]\n",
      "================================================================================\n",
      "sweep 30, age = 14\n",
      "Energy = -18.4598526614680871, S = 1.2506057427095967, norm_err = 1.1e-09\n",
      "Current memory usage 151.9 MB, time elapsed: 64.5 s\n",
      "Delta E = 5.4747e-13, Delta S = 4.1080e-11 (per sweep)\n",
      "max_trunc_err = 3.4686e-11, max_E_trunc = 3.2704e-10\n",
      "MPS bond dimensions: [3, 9, 27, 81, 100, 100, 100, 100, 100, 81, 27, 9, 3]\n",
      "================================================================================\n",
      "DMRG finished after 30 sweeps.\n",
      "total size = 14, maximum chi = 100\n",
      "================================================================================\n",
      "Reading 'bc_MPS'='finite' for config SpinModel\n",
      "Reading 'S'=1 for config SpinModel\n",
      "Reading 'conserve'=None for config SpinModel\n",
      "Reading 'L'=18 for config SpinModel\n",
      "Reading 'Jx'=1.0 for config SpinModel\n",
      "Reading 'Jy'=1.0 for config SpinModel\n",
      "Reading 'Jz'=1.0 for config SpinModel\n",
      "Reading 'D'=0 for config SpinModel\n",
      "Subconfig 'trunc_params'=Config(<3 options>, 'trunc_params') for config DMRG\n",
      "Reading 'mixer'=True for config DMRG\n"
     ]
    },
    {
     "name": "stderr",
     "output_type": "stream",
     "text": [
      "/home/rschulz/anaconda3/lib/python3.8/site-packages/tenpy/tools/params.py:225: UserWarning: unused option ['g'] for config SpinModel\n",
      "\n",
      "  warnings.warn(msg.format(keys=sorted(unused), name=self.name))\n"
     ]
    },
    {
     "name": "stdout",
     "output_type": "stream",
     "text": [
      "================================================================================\n",
      "sweep 10, age = 18\n",
      "Energy = -24.0438795607828588, S = nan, norm_err = 7.7e-09\n",
      "Current memory usage 156.1 MB, time elapsed: 49.5 s\n",
      "Delta E = nan, Delta S = 0.0000e+00 (per sweep)\n",
      "max_trunc_err = 4.1878e-10, max_E_trunc = 1.7924e-09\n",
      "MPS bond dimensions: [3, 9, 27, 81, 100, 100, 100, 100, 100, 100, 100, 100, 100, 81, 27, 9, 3]\n",
      "disable mixer after 15 sweeps, final amplitude 3.05e-10\n",
      "================================================================================\n",
      "sweep 20, age = 18\n",
      "Energy = -24.0438795608246565, S = 1.3127246583321444, norm_err = 6.2e-09\n",
      "Current memory usage 156.1 MB, time elapsed: 73.9 s\n",
      "Delta E = -4.1798e-12, Delta S = nan (per sweep)\n",
      "max_trunc_err = 2.0868e-10, max_E_trunc = 1.7876e-09\n",
      "MPS bond dimensions: [3, 9, 27, 81, 100, 100, 100, 100, 100, 100, 100, 100, 100, 81, 27, 9, 3]\n",
      "================================================================================\n",
      "sweep 30, age = 18\n",
      "Energy = -24.0438795607932150, S = 1.3127246593141508, norm_err = 6.4e-09\n",
      "Current memory usage 156.1 MB, time elapsed: 96.7 s\n",
      "Delta E = 3.1442e-12, Delta S = 9.8201e-11 (per sweep)\n",
      "max_trunc_err = 2.0879e-10, max_E_trunc = 1.7883e-09\n",
      "MPS bond dimensions: [3, 9, 27, 81, 100, 100, 100, 100, 100, 100, 100, 100, 100, 81, 27, 9, 3]\n",
      "================================================================================\n",
      "DMRG finished after 30 sweeps.\n",
      "total size = 18, maximum chi = 100\n",
      "================================================================================\n",
      "Reading 'bc_MPS'='finite' for config SpinModel\n",
      "Reading 'S'=1 for config SpinModel\n",
      "Reading 'conserve'=None for config SpinModel\n",
      "Reading 'L'=22 for config SpinModel\n",
      "Reading 'Jx'=1.0 for config SpinModel\n",
      "Reading 'Jy'=1.0 for config SpinModel\n",
      "Reading 'Jz'=1.0 for config SpinModel\n",
      "Reading 'D'=0 for config SpinModel\n",
      "Subconfig 'trunc_params'=Config(<3 options>, 'trunc_params') for config DMRG\n",
      "Reading 'mixer'=True for config DMRG\n"
     ]
    },
    {
     "name": "stderr",
     "output_type": "stream",
     "text": [
      "/home/rschulz/anaconda3/lib/python3.8/site-packages/tenpy/tools/params.py:225: UserWarning: unused option ['g'] for config SpinModel\n",
      "\n",
      "  warnings.warn(msg.format(keys=sorted(unused), name=self.name))\n"
     ]
    },
    {
     "name": "stdout",
     "output_type": "stream",
     "text": [
      "================================================================================\n",
      "sweep 10, age = 22\n",
      "Energy = -29.6378897425802847, S = nan, norm_err = 2.1e-08\n",
      "Current memory usage 158.7 MB, time elapsed: 65.4 s\n",
      "Delta E = nan, Delta S = 0.0000e+00 (per sweep)\n",
      "max_trunc_err = 1.1312e-09, max_E_trunc = 4.6714e-09\n",
      "MPS bond dimensions: [3, 9, 27, 81, 100, 100, 100, 100, 100, 100, 100, 100, 100, 100, 100, 100, 100, 81, 27, 9, 3]\n",
      "disable mixer after 15 sweeps, final amplitude 3.05e-10\n",
      "================================================================================\n",
      "sweep 20, age = 22\n",
      "Energy = -29.6378897426590306, S = 1.3585336285637395, norm_err = 1.6e-08\n",
      "Current memory usage 158.7 MB, time elapsed: 111.8 s\n",
      "Delta E = -7.8746e-12, Delta S = nan (per sweep)\n",
      "max_trunc_err = 5.6339e-10, max_E_trunc = 4.6568e-09\n",
      "MPS bond dimensions: [3, 9, 27, 81, 100, 100, 100, 100, 100, 100, 100, 100, 100, 100, 100, 100, 100, 81, 27, 9, 3]\n",
      "================================================================================\n",
      "sweep 30, age = 22\n",
      "Energy = -29.6378897426281611, S = 1.3585336314384333, norm_err = 1.5e-08\n",
      "Current memory usage 158.7 MB, time elapsed: 142.7 s\n",
      "Delta E = 3.0870e-12, Delta S = 2.8747e-10 (per sweep)\n",
      "max_trunc_err = 5.6342e-10, max_E_trunc = 4.6570e-09\n",
      "MPS bond dimensions: [3, 9, 27, 81, 100, 100, 100, 100, 100, 100, 100, 100, 100, 100, 100, 100, 100, 81, 27, 9, 3]\n",
      "================================================================================\n",
      "DMRG finished after 30 sweeps.\n",
      "total size = 22, maximum chi = 100\n",
      "================================================================================\n",
      "Reading 'bc_MPS'='finite' for config SpinModel\n",
      "Reading 'S'=1 for config SpinModel\n",
      "Reading 'conserve'=None for config SpinModel\n",
      "Reading 'L'=26 for config SpinModel\n",
      "Reading 'Jx'=1.0 for config SpinModel\n",
      "Reading 'Jy'=1.0 for config SpinModel\n",
      "Reading 'Jz'=1.0 for config SpinModel\n",
      "Reading 'D'=0 for config SpinModel\n",
      "Subconfig 'trunc_params'=Config(<3 options>, 'trunc_params') for config DMRG\n",
      "Reading 'mixer'=True for config DMRG\n"
     ]
    },
    {
     "name": "stderr",
     "output_type": "stream",
     "text": [
      "/home/rschulz/anaconda3/lib/python3.8/site-packages/tenpy/tools/params.py:225: UserWarning: unused option ['g'] for config SpinModel\n",
      "\n",
      "  warnings.warn(msg.format(keys=sorted(unused), name=self.name))\n"
     ]
    },
    {
     "name": "stdout",
     "output_type": "stream",
     "text": [
      "================================================================================\n",
      "sweep 10, age = 26\n",
      "Energy = -35.2374036561435418, S = nan, norm_err = 4.1e-08\n",
      "Current memory usage 163.8 MB, time elapsed: 90.4 s\n",
      "Delta E = nan, Delta S = 0.0000e+00 (per sweep)\n",
      "max_trunc_err = 2.0467e-09, max_E_trunc = 8.1187e-09\n",
      "MPS bond dimensions: [3, 9, 27, 81, 100, 100, 100, 100, 100, 100, 100, 100, 100, 100, 100, 100, 100, 100, 100, 100, 100, 81, 27, 9, 3]\n",
      "disable mixer after 15 sweeps, final amplitude 3.05e-10\n",
      "================================================================================\n",
      "sweep 20, age = 26\n",
      "Energy = -35.2374036563245454, S = 1.3917712615652653, norm_err = 3.1e-08\n",
      "Current memory usage 163.8 MB, time elapsed: 140.3 s\n",
      "Delta E = -1.8100e-11, Delta S = nan (per sweep)\n",
      "max_trunc_err = 1.0171e-09, max_E_trunc = 8.0822e-09\n",
      "MPS bond dimensions: [3, 9, 27, 81, 100, 100, 100, 100, 100, 100, 100, 100, 100, 100, 100, 100, 100, 100, 100, 100, 100, 81, 27, 9, 3]\n",
      "================================================================================\n",
      "sweep 30, age = 26\n",
      "Energy = -35.2374036562798452, S = 1.3917712655567778, norm_err = 3.0e-08\n",
      "Current memory usage 163.8 MB, time elapsed: 179.9 s\n",
      "Delta E = 4.4700e-12, Delta S = 3.9915e-10 (per sweep)\n",
      "max_trunc_err = 1.0172e-09, max_E_trunc = 8.0827e-09\n",
      "MPS bond dimensions: [3, 9, 27, 81, 100, 100, 100, 100, 100, 100, 100, 100, 100, 100, 100, 100, 100, 100, 100, 100, 100, 81, 27, 9, 3]\n",
      "================================================================================\n",
      "DMRG finished after 30 sweeps.\n",
      "total size = 26, maximum chi = 100\n",
      "================================================================================\n",
      "Reading 'bc_MPS'='finite' for config SpinModel\n",
      "Reading 'S'=1 for config SpinModel\n",
      "Reading 'conserve'=None for config SpinModel\n",
      "Reading 'L'=30 for config SpinModel\n",
      "Reading 'Jx'=1.0 for config SpinModel\n",
      "Reading 'Jy'=1.0 for config SpinModel\n",
      "Reading 'Jz'=1.0 for config SpinModel\n",
      "Reading 'D'=0 for config SpinModel\n"
     ]
    },
    {
     "name": "stderr",
     "output_type": "stream",
     "text": [
      "/home/rschulz/anaconda3/lib/python3.8/site-packages/tenpy/tools/params.py:225: UserWarning: unused option ['g'] for config SpinModel\n",
      "\n",
      "  warnings.warn(msg.format(keys=sorted(unused), name=self.name))\n"
     ]
    },
    {
     "name": "stdout",
     "output_type": "stream",
     "text": [
      "Subconfig 'trunc_params'=Config(<3 options>, 'trunc_params') for config DMRG\n",
      "Reading 'mixer'=True for config DMRG\n",
      "================================================================================\n",
      "sweep 10, age = 30\n",
      "Energy = -40.8399289679516713, S = nan, norm_err = 9.6e-08\n",
      "Current memory usage 167.4 MB, time elapsed: 125.7 s\n",
      "Delta E = nan, Delta S = 0.0000e+00 (per sweep)\n",
      "max_trunc_err = 2.9864e-09, max_E_trunc = 1.1500e-08\n",
      "MPS bond dimensions: [3, 9, 27, 81, 100, 100, 100, 100, 100, 100, 100, 100, 100, 100, 100, 100, 100, 100, 100, 100, 100, 100, 100, 100, 100, 81, 27, 9, 3]\n",
      "disable mixer after 15 sweeps, final amplitude 3.05e-10\n",
      "================================================================================\n",
      "sweep 20, age = 30\n",
      "Energy = -40.8399289683482891, S = 1.4158951691755346, norm_err = 5.0e-08\n",
      "Current memory usage 167.4 MB, time elapsed: 182.8 s\n",
      "Delta E = -3.9662e-11, Delta S = nan (per sweep)\n",
      "max_trunc_err = 1.4808e-09, max_E_trunc = 1.1431e-08\n",
      "MPS bond dimensions: [3, 9, 27, 81, 100, 100, 100, 100, 100, 100, 100, 100, 100, 100, 100, 100, 100, 100, 100, 100, 100, 100, 100, 100, 100, 81, 27, 9, 3]\n",
      "================================================================================\n",
      "sweep 30, age = 30\n",
      "Energy = -40.8399289682538438, S = 1.4158951756849150, norm_err = 4.7e-08\n",
      "Current memory usage 167.4 MB, time elapsed: 233.3 s\n",
      "Delta E = 9.4445e-12, Delta S = 6.5094e-10 (per sweep)\n",
      "max_trunc_err = 1.4809e-09, max_E_trunc = 1.1431e-08\n",
      "MPS bond dimensions: [3, 9, 27, 81, 100, 100, 100, 100, 100, 100, 100, 100, 100, 100, 100, 100, 100, 100, 100, 100, 100, 100, 100, 100, 100, 81, 27, 9, 3]\n",
      "================================================================================\n",
      "DMRG finished after 30 sweeps.\n",
      "total size = 30, maximum chi = 100\n",
      "================================================================================\n",
      "Reading 'bc_MPS'='finite' for config SpinModel\n",
      "Reading 'S'=1 for config SpinModel\n",
      "Reading 'conserve'=None for config SpinModel\n",
      "Reading 'L'=34 for config SpinModel\n",
      "Reading 'Jx'=1.0 for config SpinModel\n",
      "Reading 'Jy'=1.0 for config SpinModel\n",
      "Reading 'Jz'=1.0 for config SpinModel\n",
      "Reading 'D'=0 for config SpinModel\n"
     ]
    },
    {
     "name": "stderr",
     "output_type": "stream",
     "text": [
      "/home/rschulz/anaconda3/lib/python3.8/site-packages/tenpy/tools/params.py:225: UserWarning: unused option ['g'] for config SpinModel\n",
      "\n",
      "  warnings.warn(msg.format(keys=sorted(unused), name=self.name))\n"
     ]
    },
    {
     "name": "stdout",
     "output_type": "stream",
     "text": [
      "Subconfig 'trunc_params'=Config(<3 options>, 'trunc_params') for config DMRG\n",
      "Reading 'mixer'=True for config DMRG\n",
      "================================================================================\n",
      "sweep 10, age = 34\n",
      "Energy = -46.4440738761497300, S = nan, norm_err = 1.9e-07\n",
      "Current memory usage 169.5 MB, time elapsed: 149.5 s\n",
      "Delta E = nan, Delta S = 0.0000e+00 (per sweep)\n",
      "max_trunc_err = 3.7785e-09, max_E_trunc = 1.4730e-08\n",
      "MPS bond dimensions: [3, 9, 27, 81, 100, 100, 100, 100, 100, 100, 100, 100, 100, 100, 100, 100, 100, 100, 100, 100, 100, 100, 100, 100, 100, 100, 100, 100, 100, 81, 27, 9, 3]\n",
      "disable mixer after 15 sweeps, final amplitude 3.05e-10\n",
      "================================================================================\n",
      "sweep 20, age = 34\n",
      "Energy = -46.4440738776998927, S = 1.4336911134252333, norm_err = 6.5e-08\n",
      "Current memory usage 169.5 MB, time elapsed: 217.4 s\n",
      "Delta E = -1.5502e-10, Delta S = nan (per sweep)\n",
      "max_trunc_err = 1.8728e-09, max_E_trunc = 1.4552e-08\n",
      "MPS bond dimensions: [3, 9, 27, 81, 100, 100, 100, 100, 100, 100, 100, 100, 100, 100, 100, 100, 100, 100, 100, 100, 100, 100, 100, 100, 100, 100, 100, 100, 100, 81, 27, 9, 3]\n",
      "================================================================================\n",
      "sweep 30, age = 34\n",
      "Energy = -46.4440738775547004, S = 1.4336911218679347, norm_err = 6.3e-08\n",
      "Current memory usage 169.5 MB, time elapsed: 281.8 s\n",
      "Delta E = 1.4519e-11, Delta S = 8.4427e-10 (per sweep)\n",
      "max_trunc_err = 1.8728e-09, max_E_trunc = 1.4553e-08\n",
      "MPS bond dimensions: [3, 9, 27, 81, 100, 100, 100, 100, 100, 100, 100, 100, 100, 100, 100, 100, 100, 100, 100, 100, 100, 100, 100, 100, 100, 100, 100, 100, 100, 81, 27, 9, 3]\n",
      "================================================================================\n",
      "DMRG finished after 30 sweeps.\n",
      "total size = 34, maximum chi = 100\n",
      "================================================================================\n",
      "Reading 'bc_MPS'='finite' for config SpinModel\n",
      "Reading 'S'=1 for config SpinModel\n",
      "Reading 'conserve'=None for config SpinModel\n",
      "Reading 'L'=38 for config SpinModel\n",
      "Reading 'Jx'=1.0 for config SpinModel\n",
      "Reading 'Jy'=1.0 for config SpinModel\n",
      "Reading 'Jz'=1.0 for config SpinModel\n",
      "Reading 'D'=0 for config SpinModel\n"
     ]
    },
    {
     "name": "stderr",
     "output_type": "stream",
     "text": [
      "/home/rschulz/anaconda3/lib/python3.8/site-packages/tenpy/tools/params.py:225: UserWarning: unused option ['g'] for config SpinModel\n",
      "\n",
      "  warnings.warn(msg.format(keys=sorted(unused), name=self.name))\n"
     ]
    },
    {
     "name": "stdout",
     "output_type": "stream",
     "text": [
      "Subconfig 'trunc_params'=Config(<3 options>, 'trunc_params') for config DMRG\n",
      "Reading 'mixer'=True for config DMRG\n",
      "================================================================================\n",
      "sweep 10, age = 38\n",
      "Energy = -52.0490765439815277, S = nan, norm_err = 3.9e-07\n",
      "Current memory usage 172.7 MB, time elapsed: 183.8 s\n",
      "Delta E = nan, Delta S = 0.0000e+00 (per sweep)\n",
      "max_trunc_err = 4.3233e-09, max_E_trunc = 1.6985e-08\n",
      "MPS bond dimensions: [3, 9, 27, 81, 100, 100, 100, 100, 100, 100, 100, 100, 100, 100, 100, 100, 100, 100, 100, 100, 100, 100, 100, 100, 100, 100, 100, 100, 100, 100, 100, 100, 100, 81, 27, 9, 3]\n",
      "disable mixer after 15 sweeps, final amplitude 3.05e-10\n",
      "================================================================================\n",
      "sweep 20, age = 38\n",
      "Energy = -52.0490765457586022, S = 1.4471662112584802, norm_err = 1.1e-07\n",
      "Current memory usage 172.7 MB, time elapsed: 268.4 s\n",
      "Delta E = -1.7771e-10, Delta S = nan (per sweep)\n",
      "max_trunc_err = 2.1455e-09, max_E_trunc = 1.6840e-08\n",
      "MPS bond dimensions: [3, 9, 27, 81, 100, 100, 100, 100, 100, 100, 100, 100, 100, 100, 100, 100, 100, 100, 100, 100, 100, 100, 100, 100, 100, 100, 100, 100, 100, 100, 100, 100, 100, 81, 27, 9, 3]\n",
      "================================================================================\n",
      "sweep 30, age = 38\n",
      "Energy = -52.0490765455305677, S = 1.4471662194415729, norm_err = 1.4e-07\n",
      "Current memory usage 172.7 MB, time elapsed: 340.2 s\n",
      "Delta E = 2.2803e-11, Delta S = 8.1831e-10 (per sweep)\n",
      "max_trunc_err = 2.1456e-09, max_E_trunc = 1.6839e-08\n",
      "MPS bond dimensions: [3, 9, 27, 81, 100, 100, 100, 100, 100, 100, 100, 100, 100, 100, 100, 100, 100, 100, 100, 100, 100, 100, 100, 100, 100, 100, 100, 100, 100, 100, 100, 100, 100, 81, 27, 9, 3]\n",
      "================================================================================\n",
      "DMRG finished after 30 sweeps.\n",
      "total size = 38, maximum chi = 100\n",
      "================================================================================\n",
      "Reading 'bc_MPS'='finite' for config SpinModel\n",
      "Reading 'S'=1 for config SpinModel\n",
      "Reading 'conserve'=None for config SpinModel\n",
      "Reading 'L'=42 for config SpinModel\n",
      "Reading 'Jx'=1.0 for config SpinModel\n",
      "Reading 'Jy'=1.0 for config SpinModel\n",
      "Reading 'Jz'=1.0 for config SpinModel\n",
      "Reading 'D'=0 for config SpinModel\n"
     ]
    },
    {
     "name": "stderr",
     "output_type": "stream",
     "text": [
      "/home/rschulz/anaconda3/lib/python3.8/site-packages/tenpy/tools/params.py:225: UserWarning: unused option ['g'] for config SpinModel\n",
      "\n",
      "  warnings.warn(msg.format(keys=sorted(unused), name=self.name))\n"
     ]
    },
    {
     "name": "stdout",
     "output_type": "stream",
     "text": [
      "Subconfig 'trunc_params'=Config(<3 options>, 'trunc_params') for config DMRG\n",
      "Reading 'mixer'=True for config DMRG\n",
      "================================================================================\n",
      "sweep 10, age = 42\n",
      "Energy = -57.6545285550589952, S = nan, norm_err = 1.7e-06\n",
      "Current memory usage 177.1 MB, time elapsed: 216.2 s\n",
      "Delta E = nan, Delta S = 0.0000e+00 (per sweep)\n",
      "max_trunc_err = 4.6693e-09, max_E_trunc = 1.8240e-08\n",
      "MPS bond dimensions: [3, 9, 27, 81, 100, 100, 100, 100, 100, 100, 100, 100, 100, 100, 100, 100, 100, 100, 100, 100, 100, 100, 100, 100, 100, 100, 100, 100, 100, 100, 100, 100, 100, 100, 100, 100, 100, 81, 27, 9, 3]\n",
      "disable mixer after 15 sweeps, final amplitude 3.05e-10\n",
      "================================================================================\n",
      "sweep 20, age = 42\n",
      "Energy = -57.6545285560124654, S = 1.4576735292371745, norm_err = 3.4e-07\n",
      "Current memory usage 177.1 MB, time elapsed: 305.8 s\n",
      "Delta E = -9.5347e-11, Delta S = nan (per sweep)\n",
      "max_trunc_err = 2.3191e-09, max_E_trunc = 1.8147e-08\n",
      "MPS bond dimensions: [3, 9, 27, 81, 100, 100, 100, 100, 100, 100, 100, 100, 100, 100, 100, 100, 100, 100, 100, 100, 100, 100, 100, 100, 100, 100, 100, 100, 100, 100, 100, 100, 100, 100, 100, 100, 100, 81, 27, 9, 3]\n",
      "================================================================================\n",
      "sweep 30, age = 42\n",
      "Energy = -57.6545285558477687, S = 1.4576735381514685, norm_err = 2.7e-07\n",
      "Current memory usage 177.1 MB, time elapsed: 378.2 s\n",
      "Delta E = 1.6470e-11, Delta S = 8.9143e-10 (per sweep)\n",
      "max_trunc_err = 2.3191e-09, max_E_trunc = 1.8147e-08\n",
      "MPS bond dimensions: [3, 9, 27, 81, 100, 100, 100, 100, 100, 100, 100, 100, 100, 100, 100, 100, 100, 100, 100, 100, 100, 100, 100, 100, 100, 100, 100, 100, 100, 100, 100, 100, 100, 100, 100, 100, 100, 81, 27, 9, 3]\n",
      "================================================================================\n",
      "DMRG finished after 30 sweeps.\n",
      "total size = 42, maximum chi = 100\n",
      "================================================================================\n"
     ]
    }
   ],
   "source": [
    "x_data=[]\n",
    "EE=[]\n",
    "for N in np.arange(10,45,4):\n",
    "    #N = 9 # number of sites\n",
    "    #model = SpinModel({'S':1,'L': N,\n",
    "     #              'Jx': 1., 'Jy': 1., 'Jz': 1.,\n",
    "      #             'bc_MPS': 'finite', 'bc_x': 'periodic',\n",
    "       #            'order': 'folded','conserve': None})\n",
    "    model = SpinModel({\"S\":1,\"L\": N, \"Jx\": 1.,\"Jy\":1.,\"Jz\": 1.,\"D\":0,\"g\": 0, \"conserve\":None,\"bc_MPS\": \"finite\"})\n",
    "    sites = model.lat.mps_sites()\n",
    "    psi = MPS.from_product_state(sites, ([\"up\", \"down\"] * (N//2)), \"finite\")\n",
    "    dmrg_params = {\"trunc_params\": {\"chi_max\": 100, \"svd_min\": 1.e-7}, \"mixer\": True}\n",
    "    info = dmrg.run(psi, model, dmrg_params)\n",
    "    EE.append(psi.entanglement_entropy(n=1, bonds=[int(N/2)], for_matrix_S=False))\n",
    "    x_data.append(N)\n",
    "\n"
   ]
  },
  {
   "cell_type": "markdown",
   "metadata": {},
   "source": [
    "Correlation functions"
   ]
  },
  {
   "cell_type": "code",
   "execution_count": null,
   "metadata": {
    "jupyter": {
     "source_hidden": true
    }
   },
   "outputs": [],
   "source": [
    "N=80\n",
    "model = SpinModel({\"S\":1,\"L\": N, \"Jx\": 1.,\"Jy\":1.,\"Jz\": 1.,\"D\":0 ,\"g\": 0, \"conserve\":None,\"bc_MPS\": \"finite\"})\n",
    "sites = model.lat.mps_sites()\n",
    "psi = MPS.from_product_state(sites, [\"up\", \"down\"] * (N//2), \"finite\")\n",
    "dmrg_params = {\"trunc_params\": {\"chi_max\": 250, \"svd_min\": 1.e-7}, \"mixer\": True, \"max_sweeps\": 50}\n",
    "info = dmrg.run(psi, model, dmrg_params)\n"
   ]
  },
  {
   "cell_type": "code",
   "execution_count": null,
   "metadata": {
    "jupyter": {
     "source_hidden": true
    }
   },
   "outputs": [],
   "source": [
    "X = psi2.expectation_value(\"Sx\")\n",
    "Z = psi2.expectation_value(\"Sz\")\n",
    "x = np.arange(psi2.L)\n",
    "plt.figure()\n",
    "plt.plot(x, Z, label=\"Z\")\n",
    "plt.plot(x, X, label=\"X\")   # note: it's clear that this is zero due to charge conservation!\n",
    "plt.xlabel(\"Site i\",fontsize=14)\n",
    "plt.ylabel(r\"$S_z^i , S_x^i$\",fontsize=14)\n",
    "plt.yticks(fontsize=14)\n",
    "plt.xticks(fontsize=14)\n",
    "plt.legend()\n",
    "plt.show()\n",
    "\n",
    "\n",
    "i0 = psi2.L // 4  # for fixed `i`\n",
    "j = np.arange(i0 + 1, psi2.L)\n",
    "XX = psi2.term_correlation_function_right([(\"Sx\", 0)], [(\"Sx\", 0)], i_L=i0, j_R=j)\n",
    "XX_disc = XX - X[i0] * X[j]\n",
    "ZZ = psi2.term_correlation_function_right([(\"Sz\", 0)], [(\"Sz\", 0)], i_L=i0, j_R=j)\n",
    "ZZ_disc = ZZ - Z[i0] * Z[j]\n",
    "\n",
    "dx = j - i0\n",
    "plt.figure()\n",
    "plt.plot(dx, XX_disc, label=\"X X\")\n",
    "plt.plot(dx, ZZ_disc, label=\"Z Z\")\n",
    "plt.yticks(fontsize=14)\n",
    "plt.xticks(fontsize=14)\n",
    "plt.xlabel(r\"distance site i,j\",fontsize=14)\n",
    "plt.ylabel(r\" $\\langle A_i A_j\\rangle - \\langle A_i \\rangle\\langle A_j\\rangle$\",fontsize=14)\n",
    "plt.legend()\n",
    "#plt.loglog()\n",
    "plt.show()"
   ]
  },
  {
   "cell_type": "markdown",
   "metadata": {},
   "source": [
    "String order parameter"
   ]
  },
  {
   "cell_type": "code",
   "execution_count": null,
   "metadata": {
    "jupyter": {
     "source_hidden": true
    }
   },
   "outputs": [],
   "source": [
    "def DMRG_psi(N,D):\n",
    "    model = SpinModel({\"S\":1,\"L\": N, \"Jx\": 1.,\"Jy\":1.,\"muJ\":0,\"Jz\": 1.,\"D\":D,\"hx\": 0, \"conserve\":None,\"bc_MPS\": \"infinite\"})\n",
    "    sites = model.lat.mps_sites()\n",
    "    psi = MPS.from_product_state(sites, [\"up\", \"down\"] * (N//2), \"infinite\")\n",
    "    dmrg_params = {\"trunc_params\": {\"chi_max\": 200, \"svd_min\": 1.e-7}, \"mixer\": True,'max_sweeps':50}\n",
    "    info = dmrg.run(psi, model, dmrg_params)\n",
    "    return psi\n",
    "\n",
    "x_data=[]\n",
    "SO_x=[]\n",
    "SO_z=[]\n",
    "def string_order():\n",
    "    #L=62\n",
    "    for D in np.arange(0.99,1.1,0.03):\n",
    "        L=80\n",
    "        print(L, end='\\r')\n",
    "        x_data.append(L)\n",
    "        \n",
    "        psi=DMRG_psi(L,D)\n",
    "        Sz = psi.sites[0].Sz\n",
    "        Sz_exp=npc.expm(1.j * np.pi * Sz)\n",
    "        so_z=(psi.correlation_function(\"Sz\", \"Sz\",opstr=Sz_exp,str_on_first=False))\n",
    "\n",
    "        Sx = psi.sites[0].Sx\n",
    "        Sx_exp=npc.expm(1.j * np.pi * Sx)\n",
    "        so_x=(psi.correlation_function(\"Sx\", \"Sx\",opstr=Sx_exp,str_on_first=False))\n",
    "\n",
    "        SO_z.append(so_z[0][-1])\n",
    "        SO_x.append(so_x[0][-1])\n",
    "\n",
    "    print(\"SO_z\",SO_z)  \n",
    "    print(\"SO_x\",SO_z) \n",
    "    print(x_data)\n",
    "    plt.grid()\n",
    "    plt.ylabel(\"SOP\",fontsize=14)\n",
    "    plt.xlabel(\"D\",fontsize=14)\n",
    "    plt.yticks(fontsize=14)\n",
    "    plt.xticks(fontsize=14)\n",
    "    plt.plot(x_data,SO_x,\"d\",label=r'$SOP(S_x)$')\n",
    "    plt.plot(x_data,SO_z,\"^\",label=r'$SOP(S_z)$')\n",
    "    plt.legend()\n",
    "\n",
    "string_order()"
   ]
  }
 ],
 "metadata": {
  "kernelspec": {
   "display_name": "Python 3",
   "language": "python",
   "name": "python3"
  },
  "language_info": {
   "codemirror_mode": {
    "name": "ipython",
    "version": 3
   },
   "file_extension": ".py",
   "mimetype": "text/x-python",
   "name": "python",
   "nbconvert_exporter": "python",
   "pygments_lexer": "ipython3",
   "version": "3.8.5"
  }
 },
 "nbformat": 4,
 "nbformat_minor": 4
}
